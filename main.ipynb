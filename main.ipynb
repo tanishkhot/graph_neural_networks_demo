{
 "cells": [
  {
   "cell_type": "code",
   "execution_count": 1,
   "metadata": {},
   "outputs": [
    {
     "data": {
      "image/png": "[encoded data removed]",
      "text/plain": [
       "<Figure size 640x480 with 1 Axes>"
      ]
     },
     "metadata": {},
     "output_type": "display_data"
    }
   ],
   "source": [
    "import torch\n",
    "import torch_geometric\n",
    "import networkx as nx\n",
    "import matplotlib.pyplot as plt\n",
    "from torch_geometric.data import Data\n",
    "\n",
    "# dummydata: Assume we have a simple pose with 5 joints and their coordinates.\n",
    "joint_positions = torch.tensor([\n",
    "    [0.1, 0.5],  #(left shoulder)\n",
    "    [0.2, 0.4],  #(left elbow)\n",
    "    [0.3, 0.6],  #(right shoulder)\n",
    "    [0.4, 0.5],  #(right elbow)\n",
    "    [0.5, 0.7],  #(head)\n",
    "], dtype=torch.float)\n",
    "\n",
    "\n",
    "edge_index = torch.tensor([\n",
    "    [0, 1],  # left shoulder to left elbow\n",
    "    [1, 2],  # left elbow to right shoulder\n",
    "    [2, 3],  # right shoulder to right elbow\n",
    "    [3, 4],  # right elbow to head\n",
    "], dtype=torch.long).t().contiguous()\n",
    "\n",
    "\n",
    "data = Data(x=joint_positions, edge_index=edge_index)\n",
    "\n",
    "#visualize the graph\n",
    "G = nx.Graph()\n",
    "for i in range(joint_positions.size(0)):\n",
    "    G.add_node(i, pos=joint_positions[i].tolist())\n",
    "for edge in edge_index.t().tolist():\n",
    "    G.add_edge(edge[0], edge[1])\n",
    "\n",
    "pos = nx.get_node_attributes(G, 'pos')\n",
    "nx.draw(G, pos, with_labels=True, node_size=500, node_color=\"skyblue\")\n",
    "plt.show()\n"
   ]
  },
  {
   "cell_type": "code",
   "execution_count": null,
   "metadata": {},
   "outputs": [
    {
     "name": "stdout",
     "output_type": "stream",
     "text": [
      "Output after one training step: tensor([[-0.6015, -0.7940],\n",
      "        [-0.5759, -0.8260],\n",
      "        [-0.5898, -0.8084],\n",
      "        [-0.5876, -0.8111],\n",
      "        [-0.5762, -0.8256]], grad_fn=<LogSoftmaxBackward0>)\n"
     ]
    },
    {
     "data": {
      "text/plain": [
       "'\\nthe output is such that the model predicts the location of each node. \\n '"
      ]
     },
     "execution_count": 2,
     "metadata": {},
     "output_type": "execute_result"
    }
   ],
   "source": [
    "import torch.nn.functional as F\n",
    "from torch_geometric.nn import GCNConv\n",
    "\n",
    "#defining the model\n",
    "class PoseGNN(torch.nn.Module):\n",
    "    def __init__(self):\n",
    "        super(PoseGNN, self).__init__()\n",
    "        #two GCN layers\n",
    "        self.conv1 = GCNConv(2, 16)  #input:2D coordinates (x, y), output:16 features\n",
    "        self.conv2 = GCNConv(16, 2)  #output layer with 2 features per node\n",
    "\n",
    "    def forward(self, data):        \n",
    "        x, edge_index = data.x, data.edge_index #convolution layers\n",
    "        x = self.conv1(x, edge_index)\n",
    "        x = F.relu(x)  #activation function\n",
    "        x = self.conv2(x, edge_index)\n",
    "        return F.log_softmax(x, dim=1)\n",
    "\n",
    "\n",
    "model = PoseGNN()\n",
    "optimizer = torch.optim.Adam(model.parameters(), lr=0.01)\n",
    "criterion = torch.nn.MSELoss() \n",
    "\n",
    "model.train()\n",
    "optimizer.zero_grad()\n",
    "out = model(data)\n",
    "loss = criterion(out, data.x)  #here, we just try to predict the input data itself\n",
    "loss.backward()\n",
    "optimizer.step()\n",
    "\n",
    "print(\"Output after one training step:\", out)\n",
    "\n",
    "\"\"\"\n",
    "the output is such that the model predicts the location of each node. \n",
    " \"\"\"\n"
   ]
  },
  {
   "cell_type": "markdown",
   "metadata": {},
   "source": [
    "### If you are using this on a macbook, remember to open this in a virtual environment and run it there.\n",
    "\n",
    "\n",
    "1. pip install torch torchvision torchaudio\n",
    "2. pip install torch-scatter torch-sparse torch-cluster torch-spline-conv torch-geometric\n",
    "3. pip install networkx\n",
    "4. pip install matplotlib"
   ]
  }
 ],
 "metadata": {
  "kernelspec": {
   "display_name": "myenv",
   "language": "python",
   "name": "python3"
  },
  "language_info": {
   "codemirror_mode": {
    "name": "ipython",
    "version": 3
   },
   "file_extension": ".py",
   "mimetype": "text/x-python",
   "name": "python",
   "nbconvert_exporter": "python",
   "pygments_lexer": "ipython3",
   "version": "3.12.6"
  }
 },
 "nbformat": 4,
 "nbformat_minor": 2
}
